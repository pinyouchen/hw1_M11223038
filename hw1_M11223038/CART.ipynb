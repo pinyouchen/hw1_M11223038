{
 "cells": [
  {
   "cell_type": "code",
   "execution_count": 25,
   "metadata": {},
   "outputs": [],
   "source": [
    "import warnings\n",
    "import joblib\n",
    "#import pydotplus\n",
    "import numpy as np\n",
    "import pandas as pd\n",
    "import seaborn as sns\n",
    "from matplotlib import pyplot as plt\n",
    "from sklearn.tree import DecisionTreeClassifier, export_graphviz, export_text\n",
    "from sklearn.metrics import classification_report, roc_auc_score\n",
    "from sklearn.model_selection import train_test_split, GridSearchCV, cross_validate, validation_curve"
   ]
  },
  {
   "cell_type": "code",
   "execution_count": 26,
   "metadata": {},
   "outputs": [
    {
     "data": {
      "text/html": [
       "<div>\n",
       "<style scoped>\n",
       "    .dataframe tbody tr th:only-of-type {\n",
       "        vertical-align: middle;\n",
       "    }\n",
       "\n",
       "    .dataframe tbody tr th {\n",
       "        vertical-align: top;\n",
       "    }\n",
       "\n",
       "    .dataframe thead th {\n",
       "        text-align: right;\n",
       "    }\n",
       "</style>\n",
       "<table border=\"1\" class=\"dataframe\">\n",
       "  <thead>\n",
       "    <tr style=\"text-align: right;\">\n",
       "      <th></th>\n",
       "      <th>age</th>\n",
       "      <th>workclass</th>\n",
       "      <th>fnlgwt</th>\n",
       "      <th>education</th>\n",
       "      <th>educationnum</th>\n",
       "      <th>marital-status</th>\n",
       "      <th>occupation</th>\n",
       "      <th>relationship</th>\n",
       "      <th>race</th>\n",
       "      <th>gender</th>\n",
       "      <th>capital-gain</th>\n",
       "      <th>capital-loss</th>\n",
       "      <th>hours-per-week</th>\n",
       "      <th>country</th>\n",
       "      <th>income</th>\n",
       "    </tr>\n",
       "  </thead>\n",
       "  <tbody>\n",
       "    <tr>\n",
       "      <th>0</th>\n",
       "      <td>39</td>\n",
       "      <td>State-gov</td>\n",
       "      <td>77516</td>\n",
       "      <td>Bachelors</td>\n",
       "      <td>13</td>\n",
       "      <td>Never-married</td>\n",
       "      <td>Adm-clerical</td>\n",
       "      <td>Not-in-family</td>\n",
       "      <td>White</td>\n",
       "      <td>Male</td>\n",
       "      <td>2174</td>\n",
       "      <td>0</td>\n",
       "      <td>40</td>\n",
       "      <td>United-States</td>\n",
       "      <td>&lt;=50K</td>\n",
       "    </tr>\n",
       "    <tr>\n",
       "      <th>1</th>\n",
       "      <td>50</td>\n",
       "      <td>Self-emp-not-inc</td>\n",
       "      <td>83311</td>\n",
       "      <td>Bachelors</td>\n",
       "      <td>13</td>\n",
       "      <td>Married-civ-spouse</td>\n",
       "      <td>Exec-managerial</td>\n",
       "      <td>Husband</td>\n",
       "      <td>White</td>\n",
       "      <td>Male</td>\n",
       "      <td>0</td>\n",
       "      <td>0</td>\n",
       "      <td>13</td>\n",
       "      <td>United-States</td>\n",
       "      <td>&lt;=50K</td>\n",
       "    </tr>\n",
       "    <tr>\n",
       "      <th>2</th>\n",
       "      <td>38</td>\n",
       "      <td>Private</td>\n",
       "      <td>215646</td>\n",
       "      <td>HS-grad</td>\n",
       "      <td>9</td>\n",
       "      <td>Divorced</td>\n",
       "      <td>Handlers-cleaners</td>\n",
       "      <td>Not-in-family</td>\n",
       "      <td>White</td>\n",
       "      <td>Male</td>\n",
       "      <td>0</td>\n",
       "      <td>0</td>\n",
       "      <td>40</td>\n",
       "      <td>United-States</td>\n",
       "      <td>&lt;=50K</td>\n",
       "    </tr>\n",
       "    <tr>\n",
       "      <th>3</th>\n",
       "      <td>53</td>\n",
       "      <td>Private</td>\n",
       "      <td>234721</td>\n",
       "      <td>11th</td>\n",
       "      <td>7</td>\n",
       "      <td>Married-civ-spouse</td>\n",
       "      <td>Handlers-cleaners</td>\n",
       "      <td>Husband</td>\n",
       "      <td>Black</td>\n",
       "      <td>Male</td>\n",
       "      <td>0</td>\n",
       "      <td>0</td>\n",
       "      <td>40</td>\n",
       "      <td>United-States</td>\n",
       "      <td>&lt;=50K</td>\n",
       "    </tr>\n",
       "    <tr>\n",
       "      <th>4</th>\n",
       "      <td>28</td>\n",
       "      <td>Private</td>\n",
       "      <td>338409</td>\n",
       "      <td>Bachelors</td>\n",
       "      <td>13</td>\n",
       "      <td>Married-civ-spouse</td>\n",
       "      <td>Prof-specialty</td>\n",
       "      <td>Wife</td>\n",
       "      <td>Black</td>\n",
       "      <td>Female</td>\n",
       "      <td>0</td>\n",
       "      <td>0</td>\n",
       "      <td>40</td>\n",
       "      <td>Cuba</td>\n",
       "      <td>&lt;=50K</td>\n",
       "    </tr>\n",
       "  </tbody>\n",
       "</table>\n",
       "</div>"
      ],
      "text/plain": [
       "   age          workclass  fnlgwt   education  educationnum  \\\n",
       "0   39          State-gov   77516   Bachelors            13   \n",
       "1   50   Self-emp-not-inc   83311   Bachelors            13   \n",
       "2   38            Private  215646     HS-grad             9   \n",
       "3   53            Private  234721        11th             7   \n",
       "4   28            Private  338409   Bachelors            13   \n",
       "\n",
       "        marital-status          occupation    relationship    race   gender  \\\n",
       "0        Never-married        Adm-clerical   Not-in-family   White     Male   \n",
       "1   Married-civ-spouse     Exec-managerial         Husband   White     Male   \n",
       "2             Divorced   Handlers-cleaners   Not-in-family   White     Male   \n",
       "3   Married-civ-spouse   Handlers-cleaners         Husband   Black     Male   \n",
       "4   Married-civ-spouse      Prof-specialty            Wife   Black   Female   \n",
       "\n",
       "   capital-gain  capital-loss  hours-per-week         country  income  \n",
       "0          2174             0              40   United-States   <=50K  \n",
       "1             0             0              13   United-States   <=50K  \n",
       "2             0             0              40   United-States   <=50K  \n",
       "3             0             0              40   United-States   <=50K  \n",
       "4             0             0              40            Cuba   <=50K  "
      ]
     },
     "execution_count": 26,
     "metadata": {},
     "output_type": "execute_result"
    }
   ],
   "source": [
    "train_data = 'C:/YunTech/dataset/adult/adult.data'\n",
    "columns=['age', 'workclass', 'fnlgwt', 'education', 'educationnum', 'marital-status', 'occupation', 'relationship', \n",
    "         'race', 'gender', 'capital-gain', 'capital-loss', 'hours-per-week', 'country', 'income']\n",
    "adult_data = pd.read_csv(train_data, names = columns)\n",
    "adult_data.head()"
   ]
  },
  {
   "cell_type": "code",
   "execution_count": 27,
   "metadata": {},
   "outputs": [],
   "source": [
    "adult_data.drop('fnlgwt', axis = 1, inplace =True)"
   ]
  },
  {
   "cell_type": "code",
   "execution_count": 30,
   "metadata": {},
   "outputs": [],
   "source": [
    "from sklearn.preprocessing import LabelEncoder\n",
    "le = LabelEncoder()"
   ]
  },
  {
   "cell_type": "code",
   "execution_count": 31,
   "metadata": {},
   "outputs": [],
   "source": [
    "for columns in adult_data:\n",
    "    if adult_data[columns].dtypes == object:\n",
    "        adult_data[columns] = le.fit_transform(adult_data[columns])"
   ]
  },
  {
   "cell_type": "code",
   "execution_count": 32,
   "metadata": {},
   "outputs": [],
   "source": [
    "y = adult_data[\"income\"]\n",
    "X = adult_data.drop([\"income\"], axis=1)"
   ]
  },
  {
   "cell_type": "code",
   "execution_count": 33,
   "metadata": {},
   "outputs": [],
   "source": [
    "# train CART model\n",
    "cart_model = DecisionTreeClassifier(random_state=17).fit(X, y)\n"
   ]
  },
  {
   "cell_type": "code",
   "execution_count": 34,
   "metadata": {},
   "outputs": [],
   "source": [
    "#y_pred for Confusion Matrix  :\n",
    "y_pred = cart_model.predict(X)"
   ]
  },
  {
   "cell_type": "code",
   "execution_count": 35,
   "metadata": {},
   "outputs": [],
   "source": [
    "#y_prob for AUC:\n",
    "y_prob = cart_model.predict_proba(X)[:, 1]"
   ]
  },
  {
   "cell_type": "code",
   "execution_count": 36,
   "metadata": {},
   "outputs": [
    {
     "name": "stdout",
     "output_type": "stream",
     "text": [
      "              precision    recall  f1-score   support\n",
      "\n",
      "           0       0.97      0.99      0.98     24720\n",
      "           1       0.98      0.92      0.95      7841\n",
      "\n",
      "    accuracy                           0.98     32561\n",
      "   macro avg       0.98      0.96      0.97     32561\n",
      "weighted avg       0.98      0.98      0.98     32561\n",
      "\n"
     ]
    }
   ],
   "source": [
    "# Confusion matrix\n",
    "print(classification_report(y, y_pred))"
   ]
  },
  {
   "cell_type": "code",
   "execution_count": 37,
   "metadata": {},
   "outputs": [
    {
     "data": {
      "text/plain": [
       "0.9982769832995511"
      ]
     },
     "execution_count": 37,
     "metadata": {},
     "output_type": "execute_result"
    }
   ],
   "source": [
    "# AUC\n",
    "roc_auc_score(y, y_prob)"
   ]
  },
  {
   "cell_type": "code",
   "execution_count": 38,
   "metadata": {},
   "outputs": [],
   "source": [
    "X_train, X_test, y_train, y_test = train_test_split(X, y, test_size=0.30, random_state=85)"
   ]
  },
  {
   "cell_type": "code",
   "execution_count": 39,
   "metadata": {},
   "outputs": [],
   "source": [
    "cart_model = DecisionTreeClassifier(random_state=17).fit(X_train, y_train)"
   ]
  },
  {
   "cell_type": "code",
   "execution_count": 40,
   "metadata": {},
   "outputs": [
    {
     "name": "stdout",
     "output_type": "stream",
     "text": [
      "              precision    recall  f1-score   support\n",
      "\n",
      "           0       0.98      1.00      0.99     17302\n",
      "           1       0.98      0.93      0.96      5490\n",
      "\n",
      "    accuracy                           0.98     22792\n",
      "   macro avg       0.98      0.96      0.97     22792\n",
      "weighted avg       0.98      0.98      0.98     22792\n",
      "\n"
     ]
    }
   ],
   "source": [
    "# Train Error\n",
    "y_pred = cart_model.predict(X_train)\n",
    "y_prob = cart_model.predict_proba(X_train)[:, 1]\n",
    "print(classification_report(y_train, y_pred))"
   ]
  },
  {
   "cell_type": "code",
   "execution_count": 41,
   "metadata": {},
   "outputs": [
    {
     "data": {
      "text/plain": [
       "0.9987445148322978"
      ]
     },
     "execution_count": 41,
     "metadata": {},
     "output_type": "execute_result"
    }
   ],
   "source": [
    "roc_auc_score(y_train, y_prob)"
   ]
  },
  {
   "cell_type": "code",
   "execution_count": 42,
   "metadata": {},
   "outputs": [
    {
     "name": "stdout",
     "output_type": "stream",
     "text": [
      "              precision    recall  f1-score   support\n",
      "\n",
      "           0       0.88      0.87      0.88      7418\n",
      "           1       0.61      0.62      0.61      2351\n",
      "\n",
      "    accuracy                           0.81      9769\n",
      "   macro avg       0.74      0.75      0.74      9769\n",
      "weighted avg       0.81      0.81      0.81      9769\n",
      "\n"
     ]
    }
   ],
   "source": [
    "# Test Error\n",
    "y_pred = cart_model.predict(X_test)\n",
    "y_prob = cart_model.predict_proba(X_test)[:, 1]\n",
    "print(classification_report(y_test, y_pred))"
   ]
  },
  {
   "cell_type": "code",
   "execution_count": 43,
   "metadata": {},
   "outputs": [
    {
     "data": {
      "text/plain": [
       "0.7632571237677124"
      ]
     },
     "execution_count": 43,
     "metadata": {},
     "output_type": "execute_result"
    }
   ],
   "source": [
    "roc_auc_score(y_test, y_prob)"
   ]
  },
  {
   "cell_type": "code",
   "execution_count": 44,
   "metadata": {},
   "outputs": [],
   "source": [
    "cart_model = DecisionTreeClassifier(random_state=17).fit(X, y)"
   ]
  },
  {
   "cell_type": "code",
   "execution_count": 45,
   "metadata": {},
   "outputs": [],
   "source": [
    "cv_results = cross_validate(cart_model,\n",
    "                            X, y,\n",
    "                            cv=10,\n",
    "                            scoring=[\"accuracy\", \"f1\", \"roc_auc\"])"
   ]
  },
  {
   "cell_type": "code",
   "execution_count": 46,
   "metadata": {},
   "outputs": [
    {
     "data": {
      "text/plain": [
       "0.8171125657155747"
      ]
     },
     "execution_count": 46,
     "metadata": {},
     "output_type": "execute_result"
    }
   ],
   "source": [
    "cv_results['test_accuracy'].mean()"
   ]
  },
  {
   "cell_type": "code",
   "execution_count": 47,
   "metadata": {},
   "outputs": [
    {
     "data": {
      "text/plain": [
       "0.6146101887999397"
      ]
     },
     "execution_count": 47,
     "metadata": {},
     "output_type": "execute_result"
    }
   ],
   "source": [
    "cv_results['test_f1'].mean()"
   ]
  },
  {
   "cell_type": "code",
   "execution_count": 48,
   "metadata": {},
   "outputs": [
    {
     "data": {
      "text/plain": [
       "0.7661424507190793"
      ]
     },
     "execution_count": 48,
     "metadata": {},
     "output_type": "execute_result"
    }
   ],
   "source": [
    "cv_results['test_roc_auc'].mean()"
   ]
  },
  {
   "cell_type": "code",
   "execution_count": 49,
   "metadata": {},
   "outputs": [
    {
     "data": {
      "text/plain": [
       "{'ccp_alpha': 0.0,\n",
       " 'class_weight': None,\n",
       " 'criterion': 'gini',\n",
       " 'max_depth': None,\n",
       " 'max_features': None,\n",
       " 'max_leaf_nodes': None,\n",
       " 'min_impurity_decrease': 0.0,\n",
       " 'min_samples_leaf': 1,\n",
       " 'min_samples_split': 2,\n",
       " 'min_weight_fraction_leaf': 0.0,\n",
       " 'random_state': 17,\n",
       " 'splitter': 'best'}"
      ]
     },
     "execution_count": 49,
     "metadata": {},
     "output_type": "execute_result"
    }
   ],
   "source": [
    "cart_model.get_params()"
   ]
  },
  {
   "cell_type": "code",
   "execution_count": 50,
   "metadata": {},
   "outputs": [],
   "source": [
    "# Hyperparameter set to search:\n",
    "cart_params = {'max_depth': range(1, 11),\n",
    "               \"min_samples_split\": range(2, 20)}"
   ]
  },
  {
   "cell_type": "code",
   "execution_count": 51,
   "metadata": {},
   "outputs": [
    {
     "name": "stdout",
     "output_type": "stream",
     "text": [
      "Fitting 5 folds for each of 180 candidates, totalling 900 fits\n"
     ]
    }
   ],
   "source": [
    "# GridSearchCV\n",
    "cart_best_grid = GridSearchCV(cart_model,\n",
    "                              cart_params,\n",
    "                              cv=5,\n",
    "                              n_jobs=-1,\n",
    "                              verbose=True).fit(X, y)"
   ]
  },
  {
   "cell_type": "code",
   "execution_count": 52,
   "metadata": {},
   "outputs": [
    {
     "data": {
      "text/plain": [
       "{'max_depth': 10, 'min_samples_split': 12}"
      ]
     },
     "execution_count": 52,
     "metadata": {},
     "output_type": "execute_result"
    }
   ],
   "source": [
    "# Best hyper parameter values:\n",
    "cart_best_grid.best_params_"
   ]
  },
  {
   "cell_type": "code",
   "execution_count": 53,
   "metadata": {},
   "outputs": [
    {
     "data": {
      "text/plain": [
       "0.8556248870620129"
      ]
     },
     "execution_count": 53,
     "metadata": {},
     "output_type": "execute_result"
    }
   ],
   "source": [
    "# Best score:\n",
    "cart_best_grid.best_score_"
   ]
  },
  {
   "cell_type": "code",
   "execution_count": 54,
   "metadata": {},
   "outputs": [
    {
     "name": "stdout",
     "output_type": "stream",
     "text": [
      "      age  workclass  education  educationnum  marital-status  occupation  \\\n",
      "6299   43          4         12            14               2          10   \n",
      "\n",
      "      relationship  race  gender  capital-gain  capital-loss  hours-per-week  \\\n",
      "6299             0     4       1             0             0              40   \n",
      "\n",
      "      country  \n",
      "6299       39  \n"
     ]
    }
   ],
   "source": [
    "random = X.sample(1, random_state=45)\n",
    "print(random)"
   ]
  },
  {
   "cell_type": "code",
   "execution_count": 55,
   "metadata": {},
   "outputs": [
    {
     "data": {
      "text/plain": [
       "array([1])"
      ]
     },
     "execution_count": 55,
     "metadata": {},
     "output_type": "execute_result"
    }
   ],
   "source": [
    "cart_best_grid.predict(random)"
   ]
  },
  {
   "cell_type": "code",
   "execution_count": 56,
   "metadata": {},
   "outputs": [],
   "source": [
    "cart_final = DecisionTreeClassifier(**cart_best_grid.best_params_,\n",
    "                                    random_state=17).fit(X, y)"
   ]
  },
  {
   "cell_type": "code",
   "execution_count": 57,
   "metadata": {},
   "outputs": [
    {
     "data": {
      "text/plain": [
       "{'ccp_alpha': 0.0,\n",
       " 'class_weight': None,\n",
       " 'criterion': 'gini',\n",
       " 'max_depth': 10,\n",
       " 'max_features': None,\n",
       " 'max_leaf_nodes': None,\n",
       " 'min_impurity_decrease': 0.0,\n",
       " 'min_samples_leaf': 1,\n",
       " 'min_samples_split': 12,\n",
       " 'min_weight_fraction_leaf': 0.0,\n",
       " 'random_state': 17,\n",
       " 'splitter': 'best'}"
      ]
     },
     "execution_count": 57,
     "metadata": {},
     "output_type": "execute_result"
    }
   ],
   "source": [
    "cart_final.get_params()"
   ]
  },
  {
   "cell_type": "code",
   "execution_count": 58,
   "metadata": {},
   "outputs": [],
   "source": [
    "# Another way to assign the best parameters to the model:\n",
    "cart_final = cart_model.set_params(**cart_best_grid.best_params_).fit(X, y)"
   ]
  },
  {
   "cell_type": "code",
   "execution_count": 59,
   "metadata": {},
   "outputs": [],
   "source": [
    "# CV error of final model:\n",
    "cv_results = cross_validate(cart_final,\n",
    "                            X, y,\n",
    "                            cv=10,\n",
    "                            scoring=[\"accuracy\", \"f1\", \"roc_auc\"])"
   ]
  },
  {
   "cell_type": "code",
   "execution_count": 60,
   "metadata": {},
   "outputs": [
    {
     "data": {
      "text/plain": [
       "0.856177792077393"
      ]
     },
     "execution_count": 60,
     "metadata": {},
     "output_type": "execute_result"
    }
   ],
   "source": [
    "cv_results['test_accuracy'].mean()"
   ]
  },
  {
   "cell_type": "code",
   "execution_count": 61,
   "metadata": {},
   "outputs": [
    {
     "data": {
      "text/plain": [
       "0.6660706695785723"
      ]
     },
     "execution_count": 61,
     "metadata": {},
     "output_type": "execute_result"
    }
   ],
   "source": [
    "cv_results['test_f1'].mean()"
   ]
  },
  {
   "cell_type": "code",
   "execution_count": 62,
   "metadata": {},
   "outputs": [
    {
     "data": {
      "text/plain": [
       "0.901462179280685"
      ]
     },
     "execution_count": 62,
     "metadata": {},
     "output_type": "execute_result"
    }
   ],
   "source": [
    "cv_results['test_roc_auc'].mean()"
   ]
  },
  {
   "cell_type": "code",
   "execution_count": 76,
   "metadata": {},
   "outputs": [
    {
     "data": {
      "image/png": "[encoded data removed]",
      "text/plain": [
       "<Figure size 1000x1000 with 1 Axes>"
      ]
     },
     "metadata": {},
     "output_type": "display_data"
    }
   ],
   "source": [
    "def plot_importance(model, features, num=len(X), save=False):\n",
    "    feature_imp = pd.DataFrame({'Value': model.feature_importances_, 'Feature': features.columns})\n",
    "    plt.figure(figsize=(10, 10))\n",
    "    sns.set(font_scale=1)\n",
    "    sns.barplot(x=\"Value\", y=\"Feature\", data=feature_imp.sort_values(by=\"Value\",\n",
    "                                                                     ascending=False)[0:num])\n",
    "    plt.title('importance')\n",
    "    plt.tight_layout()\n",
    "    plt.show()\n",
    "    if save:\n",
    "        plt.savefig('importances.png')\n",
    "\n",
    "plot_importance(cart_final, X, 15)"
   ]
  },
  {
   "cell_type": "code",
   "execution_count": 67,
   "metadata": {},
   "outputs": [],
   "source": [
    "train_score, test_score = validation_curve(\n",
    "    cart_final, X=X, y=y,\n",
    "    param_name='max_depth',\n",
    "    param_range=range(1, 11),\n",
    "    scoring=\"roc_auc\",\n",
    "    cv=10)"
   ]
  },
  {
   "cell_type": "code",
   "execution_count": 68,
   "metadata": {},
   "outputs": [],
   "source": [
    "mean_train_score = np.mean(train_score, axis=1)"
   ]
  },
  {
   "cell_type": "code",
   "execution_count": 69,
   "metadata": {},
   "outputs": [],
   "source": [
    "mean_test_score = np.mean(test_score, axis=1)"
   ]
  },
  {
   "cell_type": "code",
   "execution_count": 70,
   "metadata": {},
   "outputs": [
    {
     "data": {
      "image/png": "[encoded data removed]",
      "text/plain": [
       "<Figure size 640x480 with 1 Axes>"
      ]
     },
     "metadata": {},
     "output_type": "display_data"
    }
   ],
   "source": [
    "plt.plot(range(1, 11), mean_train_score,\n",
    "         label=\"Training Score\", color='b')\n",
    "plt.plot(range(1, 11), mean_test_score,\n",
    "         label=\"Validation Score\", color='g')\n",
    "\n",
    "plt.title(\"Validation Curve for CART\")\n",
    "plt.xlabel(\"Number of max_depth\")\n",
    "plt.ylabel(\"AUC\")\n",
    "plt.tight_layout()\n",
    "plt.legend(loc='best')\n",
    "plt.show()"
   ]
  },
  {
   "cell_type": "code",
   "execution_count": 71,
   "metadata": {},
   "outputs": [
    {
     "name": "stdout",
     "output_type": "stream",
     "text": [
      "|--- relationship <= 0.50\n",
      "|   |--- educationnum <= 12.50\n",
      "|   |   |--- capital-gain <= 5095.50\n",
      "|   |   |   |--- educationnum <= 8.50\n",
      "|   |   |   |   |--- capital-loss <= 1791.50\n",
      "|   |   |   |   |   |--- age <= 36.50\n",
      "|   |   |   |   |   |   |--- hours-per-week <= 49.00\n",
      "|   |   |   |   |   |   |   |--- educationnum <= 7.50\n",
      "|   |   |   |   |   |   |   |   |--- country <= 1.00\n",
      "|   |   |   |   |   |   |   |   |   |--- class: 0\n",
      "|   |   |   |   |   |   |   |   |--- country >  1.00\n",
      "|   |   |   |   |   |   |   |   |   |--- education <= 0.50\n",
      "|   |   |   |   |   |   |   |   |   |   |--- class: 0\n",
      "|   |   |   |   |   |   |   |   |   |--- education >  0.50\n",
      "|   |   |   |   |   |   |   |   |   |   |--- class: 0\n",
      "|   |   |   |   |   |   |   |--- educationnum >  7.50\n",
      "|   |   |   |   |   |   |   |   |--- occupation <= 11.50\n",
      "|   |   |   |   |   |   |   |   |   |--- age <= 25.50\n",
      "|   |   |   |   |   |   |   |   |   |   |--- class: 0\n",
      "|   |   |   |   |   |   |   |   |   |--- age >  25.50\n",
      "|   |   |   |   |   |   |   |   |   |   |--- class: 0\n",
      "|   |   |   |   |   |   |   |   |--- occupation >  11.50\n",
      "|   |   |   |   |   |   |   |   |   |--- class: 0\n",
      "|   |   |   |   |   |   |--- hours-per-week >  49.00\n",
      "|   |   |   |   |   |   |   |--- hours-per-week <= 52.50\n",
      "|   |   |   |   |   |   |   |   |--- educationnum <= 3.50\n",
      "|   |   |   |   |   |   |   |   |   |--- class: 0\n",
      "|   |   |   |   |   |   |   |   |--- educationnum >  3.50\n",
      "|   |   |   |   |   |   |   |   |   |--- age <= 28.50\n",
      "|   |   |   |   |   |   |   |   |   |   |--- class: 0\n",
      "|   |   |   |   |   |   |   |   |   |--- age >  28.50\n",
      "|   |   |   |   |   |   |   |   |   |   |--- class: 0\n",
      "|   |   |   |   |   |   |   |--- hours-per-week >  52.50\n",
      "|   |   |   |   |   |   |   |   |--- age <= 22.50\n",
      "|   |   |   |   |   |   |   |   |   |--- class: 0\n",
      "|   |   |   |   |   |   |   |   |--- age >  22.50\n",
      "|   |   |   |   |   |   |   |   |   |--- hours-per-week <= 77.50\n",
      "|   |   |   |   |   |   |   |   |   |   |--- class: 0\n",
      "|   |   |   |   |   |   |   |   |   |--- hours-per-week >  77.50\n",
      "|   |   |   |   |   |   |   |   |   |   |--- class: 0\n",
      "|   |   |   |   |   |--- age >  36.50\n",
      "|   |   |   |   |   |   |--- age <= 66.50\n",
      "|   |   |   |   |   |   |   |--- education <= 2.50\n",
      "|   |   |   |   |   |   |   |   |--- workclass <= 3.00\n",
      "|   |   |   |   |   |   |   |   |   |--- age <= 63.50\n",
      "|   |   |   |   |   |   |   |   |   |   |--- class: 0\n",
      "|   |   |   |   |   |   |   |   |   |--- age >  63.50\n",
      "|   |   |   |   |   |   |   |   |   |   |--- class: 0\n",
      "|   |   |   |   |   |   |   |   |--- workclass >  3.00\n",
      "|   |   |   |   |   |   |   |   |   |--- capital-gain <= 2966.00\n",
      "|   |   |   |   |   |   |   |   |   |   |--- class: 0\n",
      "|   |   |   |   |   |   |   |   |   |--- capital-gain >  2966.00\n",
      "|   |   |   |   |   |   |   |   |   |   |--- class: 0\n",
      "|   |   |   |   |   |   |   |--- education >  2.50\n",
      "|   |   |   |   |   |   |   |   |--- hours-per-week <= 49.50\n",
      "|   |   |   |   |   |   |   |   |   |--- workclass <= 4.50\n",
      "|   |   |   |   |   |   |   |   |   |   |--- class: 0\n",
      "|   |   |   |   |   |   |   |   |   |--- workclass >  4.50\n",
      "|   |   |   |   |   |   |   |   |   |   |--- class: 0\n",
      "|   |   |   |   |   |   |   |   |--- hours-per-week >  49.50\n",
      "|   |   |   |   |   |   |   |   |   |--- capital-gain <= 4164.00\n",
      "|   |   |   |   |   |   |   |   |   |   |--- class: 0\n",
      "|   |   |   |   |   |   |   |   |   |--- capital-gain >  4164.00\n",
      "|   |   |   |   |   |   |   |   |   |   |--- class: 1\n",
      "|   |   |   |   |   |   |--- age >  66.50\n",
      "|   |   |   |   |   |   |   |--- occupation <= 11.50\n",
      "|   |   |   |   |   |   |   |   |--- class: 0\n",
      "|   |   |   |   |   |   |   |--- occupation >  11.50\n",
      "|   |   |   |   |   |   |   |   |--- occupation <= 13.00\n",
      "|   |   |   |   |   |   |   |   |   |--- class: 0\n",
      "|   |   |   |   |   |   |   |   |--- occupation >  13.00\n",
      "|   |   |   |   |   |   |   |   |   |--- class: 0\n",
      "|   |   |   |   |--- capital-loss >  1791.50\n",
      "|   |   |   |   |   |--- capital-loss <= 1989.50\n",
      "|   |   |   |   |   |   |--- race <= 1.00\n",
      "|   |   |   |   |   |   |   |--- class: 0\n",
      "|   |   |   |   |   |   |--- race >  1.00\n",
      "|   |   |   |   |   |   |   |--- workclass <= 3.00\n",
      "|   |   |   |   |   |   |   |   |--- class: 1\n",
      "|   |   |   |   |   |   |   |--- workclass >  3.00\n",
      "|   |   |   |   |   |   |   |   |--- class: 1\n",
      "|   |   |   |   |   |--- capital-loss >  1989.50\n",
      "|   |   |   |   |   |   |--- class: 0\n",
      "|   |   |   |--- educationnum >  8.50\n",
      "|   |   |   |   |--- capital-loss <= 1782.50\n",
      "|   |   |   |   |   |--- age <= 35.50\n",
      "|   |   |   |   |   |   |--- age <= 29.50\n",
      "|   |   |   |   |   |   |   |--- age <= 24.50\n",
      "|   |   |   |   |   |   |   |   |--- occupation <= 13.50\n",
      "|   |   |   |   |   |   |   |   |   |--- capital-gain <= 4083.50\n",
      "|   |   |   |   |   |   |   |   |   |   |--- class: 0\n",
      "|   |   |   |   |   |   |   |   |   |--- capital-gain >  4083.50\n",
      "|   |   |   |   |   |   |   |   |   |   |--- class: 1\n",
      "|   |   |   |   |   |   |   |   |--- occupation >  13.50\n",
      "|   |   |   |   |   |   |   |   |   |--- hours-per-week <= 46.50\n",
      "|   |   |   |   |   |   |   |   |   |   |--- class: 0\n",
      "|   |   |   |   |   |   |   |   |   |--- hours-per-week >  46.50\n",
      "|   |   |   |   |   |   |   |   |   |   |--- class: 1\n",
      "|   |   |   |   |   |   |   |--- age >  24.50\n",
      "|   |   |   |   |   |   |   |   |--- educationnum <= 9.50\n",
      "|   |   |   |   |   |   |   |   |   |--- hours-per-week <= 63.50\n",
      "|   |   |   |   |   |   |   |   |   |   |--- class: 0\n",
      "|   |   |   |   |   |   |   |   |   |--- hours-per-week >  63.50\n",
      "|   |   |   |   |   |   |   |   |   |   |--- class: 0\n",
      "|   |   |   |   |   |   |   |   |--- educationnum >  9.50\n",
      "|   |   |   |   |   |   |   |   |   |--- workclass <= 3.00\n",
      "|   |   |   |   |   |   |   |   |   |   |--- class: 0\n",
      "|   |   |   |   |   |   |   |   |   |--- workclass >  3.00\n",
      "|   |   |   |   |   |   |   |   |   |   |--- class: 0\n",
      "|   |   |   |   |   |   |--- age >  29.50\n",
      "|   |   |   |   |   |   |   |--- hours-per-week <= 54.50\n",
      "|   |   |   |   |   |   |   |   |--- educationnum <= 9.50\n",
      "|   |   |   |   |   |   |   |   |   |--- country <= 39.50\n",
      "|   |   |   |   |   |   |   |   |   |   |--- class: 0\n",
      "|   |   |   |   |   |   |   |   |   |--- country >  39.50\n",
      "|   |   |   |   |   |   |   |   |   |   |--- class: 1\n",
      "|   |   |   |   |   |   |   |   |--- educationnum >  9.50\n",
      "|   |   |   |   |   |   |   |   |   |--- capital-loss <= 1532.00\n",
      "|   |   |   |   |   |   |   |   |   |   |--- class: 0\n",
      "|   |   |   |   |   |   |   |   |   |--- capital-loss >  1532.00\n",
      "|   |   |   |   |   |   |   |   |   |   |--- class: 0\n",
      "|   |   |   |   |   |   |   |--- hours-per-week >  54.50\n",
      "|   |   |   |   |   |   |   |   |--- workclass <= 5.50\n",
      "|   |   |   |   |   |   |   |   |   |--- hours-per-week <= 72.50\n",
      "|   |   |   |   |   |   |   |   |   |   |--- class: 0\n",
      "|   |   |   |   |   |   |   |   |   |--- hours-per-week >  72.50\n",
      "|   |   |   |   |   |   |   |   |   |   |--- class: 1\n",
      "|   |   |   |   |   |   |   |   |--- workclass >  5.50\n",
      "|   |   |   |   |   |   |   |   |   |--- hours-per-week <= 57.50\n",
      "|   |   |   |   |   |   |   |   |   |   |--- class: 0\n",
      "|   |   |   |   |   |   |   |   |   |--- hours-per-week >  57.50\n",
      "|   |   |   |   |   |   |   |   |   |   |--- class: 0\n",
      "|   |   |   |   |   |--- age >  35.50\n",
      "|   |   |   |   |   |   |--- hours-per-week <= 34.50\n",
      "|   |   |   |   |   |   |   |--- educationnum <= 9.50\n",
      "|   |   |   |   |   |   |   |   |--- occupation <= 10.50\n",
      "|   |   |   |   |   |   |   |   |   |--- hours-per-week <= 1.50\n",
      "|   |   |   |   |   |   |   |   |   |   |--- class: 0\n",
      "|   |   |   |   |   |   |   |   |   |--- hours-per-week >  1.50\n",
      "|   |   |   |   |   |   |   |   |   |   |--- class: 0\n",
      "|   |   |   |   |   |   |   |   |--- occupation >  10.50\n",
      "|   |   |   |   |   |   |   |   |   |--- workclass <= 1.50\n",
      "|   |   |   |   |   |   |   |   |   |   |--- class: 1\n",
      "|   |   |   |   |   |   |   |   |   |--- workclass >  1.50\n",
      "|   |   |   |   |   |   |   |   |   |   |--- class: 0\n",
      "|   |   |   |   |   |   |   |--- educationnum >  9.50\n",
      "|   |   |   |   |   |   |   |   |--- age <= 69.50\n",
      "|   |   |   |   |   |   |   |   |   |--- hours-per-week <= 2.50\n",
      "|   |   |   |   |   |   |   |   |   |   |--- class: 1\n",
      "|   |   |   |   |   |   |   |   |   |--- hours-per-week >  2.50\n",
      "|   |   |   |   |   |   |   |   |   |   |--- class: 0\n",
      "|   |   |   |   |   |   |   |   |--- age >  69.50\n",
      "|   |   |   |   |   |   |   |   |   |--- workclass <= 4.50\n",
      "|   |   |   |   |   |   |   |   |   |   |--- class: 0\n",
      "|   |   |   |   |   |   |   |   |   |--- workclass >  4.50\n",
      "|   |   |   |   |   |   |   |   |   |   |--- class: 1\n",
      "|   |   |   |   |   |   |--- hours-per-week >  34.50\n",
      "|   |   |   |   |   |   |   |--- educationnum <= 9.50\n",
      "|   |   |   |   |   |   |   |   |--- workclass <= 5.50\n",
      "|   |   |   |   |   |   |   |   |   |--- hours-per-week <= 41.50\n",
      "|   |   |   |   |   |   |   |   |   |   |--- class: 0\n",
      "|   |   |   |   |   |   |   |   |   |--- hours-per-week >  41.50\n",
      "|   |   |   |   |   |   |   |   |   |   |--- class: 0\n",
      "|   |   |   |   |   |   |   |   |--- workclass >  5.50\n",
      "|   |   |   |   |   |   |   |   |   |--- capital-gain <= 3120.00\n",
      "|   |   |   |   |   |   |   |   |   |   |--- class: 0\n",
      "|   |   |   |   |   |   |   |   |   |--- capital-gain >  3120.00\n",
      "|   |   |   |   |   |   |   |   |   |   |--- class: 0\n",
      "|   |   |   |   |   |   |   |--- educationnum >  9.50\n",
      "|   |   |   |   |   |   |   |   |--- workclass <= 5.50\n",
      "|   |   |   |   |   |   |   |   |   |--- hours-per-week <= 43.50\n",
      "|   |   |   |   |   |   |   |   |   |   |--- class: 0\n",
      "|   |   |   |   |   |   |   |   |   |--- hours-per-week >  43.50\n",
      "|   |   |   |   |   |   |   |   |   |   |--- class: 1\n",
      "|   |   |   |   |   |   |   |   |--- workclass >  5.50\n",
      "|   |   |   |   |   |   |   |   |   |--- occupation <= 5.50\n",
      "|   |   |   |   |   |   |   |   |   |   |--- class: 0\n",
      "|   |   |   |   |   |   |   |   |   |--- occupation >  5.50\n",
      "|   |   |   |   |   |   |   |   |   |   |--- class: 0\n",
      "|   |   |   |   |--- capital-loss >  1782.50\n",
      "|   |   |   |   |   |--- capital-loss <= 1989.50\n",
      "|   |   |   |   |   |   |--- age <= 24.00\n",
      "|   |   |   |   |   |   |   |--- class: 0\n",
      "|   |   |   |   |   |   |--- age >  24.00\n",
      "|   |   |   |   |   |   |   |--- age <= 66.50\n",
      "|   |   |   |   |   |   |   |   |--- capital-loss <= 1894.50\n",
      "|   |   |   |   |   |   |   |   |   |--- class: 1\n",
      "|   |   |   |   |   |   |   |   |--- capital-loss >  1894.50\n",
      "|   |   |   |   |   |   |   |   |   |--- age <= 30.50\n",
      "|   |   |   |   |   |   |   |   |   |   |--- class: 1\n",
      "|   |   |   |   |   |   |   |   |   |--- age >  30.50\n",
      "|   |   |   |   |   |   |   |   |   |   |--- class: 1\n",
      "|   |   |   |   |   |   |   |--- age >  66.50\n",
      "|   |   |   |   |   |   |   |   |--- class: 0\n",
      "|   |   |   |   |   |--- capital-loss >  1989.50\n",
      "|   |   |   |   |   |   |--- capital-loss <= 2161.50\n",
      "|   |   |   |   |   |   |   |--- class: 0\n",
      "|   |   |   |   |   |   |--- capital-loss >  2161.50\n",
      "|   |   |   |   |   |   |   |--- capital-loss <= 2176.50\n",
      "|   |   |   |   |   |   |   |   |--- class: 1\n",
      "|   |   |   |   |   |   |   |--- capital-loss >  2176.50\n",
      "|   |   |   |   |   |   |   |   |--- age <= 37.50\n",
      "|   |   |   |   |   |   |   |   |   |--- class: 0\n",
      "|   |   |   |   |   |   |   |   |--- age >  37.50\n",
      "|   |   |   |   |   |   |   |   |   |--- capital-loss <= 2436.00\n",
      "|   |   |   |   |   |   |   |   |   |   |--- class: 1\n",
      "|   |   |   |   |   |   |   |   |   |--- capital-loss >  2436.00\n",
      "|   |   |   |   |   |   |   |   |   |   |--- class: 0\n",
      "|   |   |--- capital-gain >  5095.50\n",
      "|   |   |   |--- age <= 61.50\n",
      "|   |   |   |   |--- class: 1\n",
      "|   |   |   |--- age >  61.50\n",
      "|   |   |   |   |--- hours-per-week <= 8.00\n",
      "|   |   |   |   |   |--- class: 0\n",
      "|   |   |   |   |--- hours-per-week >  8.00\n",
      "|   |   |   |   |   |--- occupation <= 7.50\n",
      "|   |   |   |   |   |   |--- age <= 65.50\n",
      "|   |   |   |   |   |   |   |--- education <= 7.50\n",
      "|   |   |   |   |   |   |   |   |--- class: 1\n",
      "|   |   |   |   |   |   |   |--- education >  7.50\n",
      "|   |   |   |   |   |   |   |   |--- class: 1\n",
      "|   |   |   |   |   |   |--- age >  65.50\n",
      "|   |   |   |   |   |   |   |--- class: 1\n",
      "|   |   |   |   |   |--- occupation >  7.50\n",
      "|   |   |   |   |   |   |--- age <= 69.50\n",
      "|   |   |   |   |   |   |   |--- class: 1\n",
      "|   |   |   |   |   |   |--- age >  69.50\n",
      "|   |   |   |   |   |   |   |--- class: 0\n",
      "|   |--- educationnum >  12.50\n",
      "|   |   |--- capital-gain <= 5095.50\n",
      "|   |   |   |--- capital-loss <= 1782.50\n",
      "|   |   |   |   |--- hours-per-week <= 31.00\n",
      "|   |   |   |   |   |--- educationnum <= 14.50\n",
      "|   |   |   |   |   |   |--- age <= 32.50\n",
      "|   |   |   |   |   |   |   |--- hours-per-week <= 16.00\n",
      "|   |   |   |   |   |   |   |   |--- class: 0\n",
      "|   |   |   |   |   |   |   |--- hours-per-week >  16.00\n",
      "|   |   |   |   |   |   |   |   |--- class: 0\n",
      "|   |   |   |   |   |   |--- age >  32.50\n",
      "|   |   |   |   |   |   |   |--- occupation <= 11.50\n",
      "|   |   |   |   |   |   |   |   |--- age <= 66.50\n",
      "|   |   |   |   |   |   |   |   |   |--- age <= 59.50\n",
      "|   |   |   |   |   |   |   |   |   |   |--- class: 0\n",
      "|   |   |   |   |   |   |   |   |   |--- age >  59.50\n",
      "|   |   |   |   |   |   |   |   |   |   |--- class: 0\n",
      "|   |   |   |   |   |   |   |   |--- age >  66.50\n",
      "|   |   |   |   |   |   |   |   |   |--- education <= 10.50\n",
      "|   |   |   |   |   |   |   |   |   |   |--- class: 0\n",
      "|   |   |   |   |   |   |   |   |   |--- education >  10.50\n",
      "|   |   |   |   |   |   |   |   |   |   |--- class: 0\n",
      "|   |   |   |   |   |   |   |--- occupation >  11.50\n",
      "|   |   |   |   |   |   |   |   |--- hours-per-week <= 16.50\n",
      "|   |   |   |   |   |   |   |   |   |--- class: 0\n",
      "|   |   |   |   |   |   |   |   |--- hours-per-week >  16.50\n",
      "|   |   |   |   |   |   |   |   |   |--- hours-per-week <= 28.00\n",
      "|   |   |   |   |   |   |   |   |   |   |--- class: 1\n",
      "|   |   |   |   |   |   |   |   |   |--- hours-per-week >  28.00\n",
      "|   |   |   |   |   |   |   |   |   |   |--- class: 0\n",
      "|   |   |   |   |   |--- educationnum >  14.50\n",
      "|   |   |   |   |   |   |--- hours-per-week <= 23.50\n",
      "|   |   |   |   |   |   |   |--- occupation <= 13.50\n",
      "|   |   |   |   |   |   |   |   |--- age <= 32.00\n",
      "|   |   |   |   |   |   |   |   |   |--- class: 1\n",
      "|   |   |   |   |   |   |   |   |--- age >  32.00\n",
      "|   |   |   |   |   |   |   |   |   |--- age <= 57.00\n",
      "|   |   |   |   |   |   |   |   |   |   |--- class: 0\n",
      "|   |   |   |   |   |   |   |   |   |--- age >  57.00\n",
      "|   |   |   |   |   |   |   |   |   |   |--- class: 0\n",
      "|   |   |   |   |   |   |   |--- occupation >  13.50\n",
      "|   |   |   |   |   |   |   |   |--- class: 1\n",
      "|   |   |   |   |   |   |--- hours-per-week >  23.50\n",
      "|   |   |   |   |   |   |   |--- age <= 58.50\n",
      "|   |   |   |   |   |   |   |   |--- class: 1\n",
      "|   |   |   |   |   |   |   |--- age >  58.50\n",
      "|   |   |   |   |   |   |   |   |--- occupation <= 4.50\n",
      "|   |   |   |   |   |   |   |   |   |--- class: 1\n",
      "|   |   |   |   |   |   |   |   |--- occupation >  4.50\n",
      "|   |   |   |   |   |   |   |   |   |--- class: 0\n",
      "|   |   |   |   |--- hours-per-week >  31.00\n",
      "|   |   |   |   |   |--- age <= 28.50\n",
      "|   |   |   |   |   |   |--- age <= 25.50\n",
      "|   |   |   |   |   |   |   |--- hours-per-week <= 43.50\n",
      "|   |   |   |   |   |   |   |   |--- workclass <= 4.50\n",
      "|   |   |   |   |   |   |   |   |   |--- occupation <= 11.00\n",
      "|   |   |   |   |   |   |   |   |   |   |--- class: 0\n",
      "|   |   |   |   |   |   |   |   |   |--- occupation >  11.00\n",
      "|   |   |   |   |   |   |   |   |   |   |--- class: 0\n",
      "|   |   |   |   |   |   |   |   |--- workclass >  4.50\n",
      "|   |   |   |   |   |   |   |   |   |--- class: 1\n",
      "|   |   |   |   |   |   |   |--- hours-per-week >  43.50\n",
      "|   |   |   |   |   |   |   |   |--- workclass <= 3.00\n",
      "|   |   |   |   |   |   |   |   |   |--- class: 0\n",
      "|   |   |   |   |   |   |   |   |--- workclass >  3.00\n",
      "|   |   |   |   |   |   |   |   |   |--- occupation <= 5.50\n",
      "|   |   |   |   |   |   |   |   |   |   |--- class: 1\n",
      "|   |   |   |   |   |   |   |   |   |--- occupation >  5.50\n",
      "|   |   |   |   |   |   |   |   |   |   |--- class: 0\n",
      "|   |   |   |   |   |   |--- age >  25.50\n",
      "|   |   |   |   |   |   |   |--- occupation <= 11.50\n",
      "|   |   |   |   |   |   |   |   |--- hours-per-week <= 39.00\n",
      "|   |   |   |   |   |   |   |   |   |--- class: 1\n",
      "|   |   |   |   |   |   |   |   |--- hours-per-week >  39.00\n",
      "|   |   |   |   |   |   |   |   |   |--- capital-loss <= 742.50\n",
      "|   |   |   |   |   |   |   |   |   |   |--- class: 0\n",
      "|   |   |   |   |   |   |   |   |   |--- capital-loss >  742.50\n",
      "|   |   |   |   |   |   |   |   |   |   |--- class: 1\n",
      "|   |   |   |   |   |   |   |--- occupation >  11.50\n",
      "|   |   |   |   |   |   |   |   |--- hours-per-week <= 57.50\n",
      "|   |   |   |   |   |   |   |   |   |--- hours-per-week <= 49.00\n",
      "|   |   |   |   |   |   |   |   |   |   |--- class: 1\n",
      "|   |   |   |   |   |   |   |   |   |--- hours-per-week >  49.00\n",
      "|   |   |   |   |   |   |   |   |   |   |--- class: 0\n",
      "|   |   |   |   |   |   |   |   |--- hours-per-week >  57.50\n",
      "|   |   |   |   |   |   |   |   |   |--- class: 1\n",
      "|   |   |   |   |   |--- age >  28.50\n",
      "|   |   |   |   |   |   |--- capital-gain <= 3120.00\n",
      "|   |   |   |   |   |   |   |--- occupation <= 3.50\n",
      "|   |   |   |   |   |   |   |   |--- hours-per-week <= 43.00\n",
      "|   |   |   |   |   |   |   |   |   |--- capital-gain <= 1551.50\n",
      "|   |   |   |   |   |   |   |   |   |   |--- class: 0\n",
      "|   |   |   |   |   |   |   |   |   |--- capital-gain >  1551.50\n",
      "|   |   |   |   |   |   |   |   |   |   |--- class: 1\n",
      "|   |   |   |   |   |   |   |   |--- hours-per-week >  43.00\n",
      "|   |   |   |   |   |   |   |   |   |--- workclass <= 4.50\n",
      "|   |   |   |   |   |   |   |   |   |   |--- class: 1\n",
      "|   |   |   |   |   |   |   |   |   |--- workclass >  4.50\n",
      "|   |   |   |   |   |   |   |   |   |   |--- class: 0\n",
      "|   |   |   |   |   |   |   |--- occupation >  3.50\n",
      "|   |   |   |   |   |   |   |   |--- occupation <= 4.50\n",
      "|   |   |   |   |   |   |   |   |   |--- capital-loss <= 629.00\n",
      "|   |   |   |   |   |   |   |   |   |   |--- class: 1\n",
      "|   |   |   |   |   |   |   |   |   |--- capital-loss >  629.00\n",
      "|   |   |   |   |   |   |   |   |   |   |--- class: 0\n",
      "|   |   |   |   |   |   |   |   |--- occupation >  4.50\n",
      "|   |   |   |   |   |   |   |   |   |--- occupation <= 9.00\n",
      "|   |   |   |   |   |   |   |   |   |   |--- class: 0\n",
      "|   |   |   |   |   |   |   |   |   |--- occupation >  9.00\n",
      "|   |   |   |   |   |   |   |   |   |   |--- class: 1\n",
      "|   |   |   |   |   |   |--- capital-gain >  3120.00\n",
      "|   |   |   |   |   |   |   |--- capital-gain <= 4225.00\n",
      "|   |   |   |   |   |   |   |   |--- class: 0\n",
      "|   |   |   |   |   |   |   |--- capital-gain >  4225.00\n",
      "|   |   |   |   |   |   |   |   |--- capital-gain <= 4447.00\n",
      "|   |   |   |   |   |   |   |   |   |--- class: 1\n",
      "|   |   |   |   |   |   |   |   |--- capital-gain >  4447.00\n",
      "|   |   |   |   |   |   |   |   |   |--- class: 0\n",
      "|   |   |   |--- capital-loss >  1782.50\n",
      "|   |   |   |   |--- capital-loss <= 1989.50\n",
      "|   |   |   |   |   |--- workclass <= 1.50\n",
      "|   |   |   |   |   |   |--- age <= 50.50\n",
      "|   |   |   |   |   |   |   |--- class: 1\n",
      "|   |   |   |   |   |   |--- age >  50.50\n",
      "|   |   |   |   |   |   |   |--- class: 0\n",
      "|   |   |   |   |   |--- workclass >  1.50\n",
      "|   |   |   |   |   |   |--- class: 1\n",
      "|   |   |   |   |--- capital-loss >  1989.50\n",
      "|   |   |   |   |   |--- capital-loss <= 2168.50\n",
      "|   |   |   |   |   |   |--- class: 0\n",
      "|   |   |   |   |   |--- capital-loss >  2168.50\n",
      "|   |   |   |   |   |   |--- capital-loss <= 2212.50\n",
      "|   |   |   |   |   |   |   |--- class: 1\n",
      "|   |   |   |   |   |   |--- capital-loss >  2212.50\n",
      "|   |   |   |   |   |   |   |--- class: 1\n",
      "|   |   |--- capital-gain >  5095.50\n",
      "|   |   |   |--- age <= 85.00\n",
      "|   |   |   |   |--- hours-per-week <= 22.50\n",
      "|   |   |   |   |   |--- class: 1\n",
      "|   |   |   |   |--- hours-per-week >  22.50\n",
      "|   |   |   |   |   |--- age <= 62.50\n",
      "|   |   |   |   |   |   |--- class: 1\n",
      "|   |   |   |   |   |--- age >  62.50\n",
      "|   |   |   |   |   |   |--- age <= 63.50\n",
      "|   |   |   |   |   |   |   |--- class: 1\n",
      "|   |   |   |   |   |   |--- age >  63.50\n",
      "|   |   |   |   |   |   |   |--- class: 1\n",
      "|   |   |   |--- age >  85.00\n",
      "|   |   |   |   |--- class: 1\n",
      "|--- relationship >  0.50\n",
      "|   |--- capital-gain <= 7073.50\n",
      "|   |   |--- relationship <= 4.50\n",
      "|   |   |   |--- educationnum <= 12.50\n",
      "|   |   |   |   |--- capital-loss <= 2218.50\n",
      "|   |   |   |   |   |--- hours-per-week <= 44.50\n",
      "|   |   |   |   |   |   |--- age <= 34.50\n",
      "|   |   |   |   |   |   |   |--- age <= 28.50\n",
      "|   |   |   |   |   |   |   |   |--- occupation <= 9.50\n",
      "|   |   |   |   |   |   |   |   |   |--- educationnum <= 10.50\n",
      "|   |   |   |   |   |   |   |   |   |   |--- class: 0\n",
      "|   |   |   |   |   |   |   |   |   |--- educationnum >  10.50\n",
      "|   |   |   |   |   |   |   |   |   |   |--- class: 0\n",
      "|   |   |   |   |   |   |   |   |--- occupation >  9.50\n",
      "|   |   |   |   |   |   |   |   |   |--- race <= 0.50\n",
      "|   |   |   |   |   |   |   |   |   |   |--- class: 0\n",
      "|   |   |   |   |   |   |   |   |   |--- race >  0.50\n",
      "|   |   |   |   |   |   |   |   |   |   |--- class: 0\n",
      "|   |   |   |   |   |   |   |--- age >  28.50\n",
      "|   |   |   |   |   |   |   |   |--- hours-per-week <= 42.50\n",
      "|   |   |   |   |   |   |   |   |   |--- educationnum <= 9.50\n",
      "|   |   |   |   |   |   |   |   |   |   |--- class: 0\n",
      "|   |   |   |   |   |   |   |   |   |--- educationnum >  9.50\n",
      "|   |   |   |   |   |   |   |   |   |   |--- class: 0\n",
      "|   |   |   |   |   |   |   |   |--- hours-per-week >  42.50\n",
      "|   |   |   |   |   |   |   |   |   |--- occupation <= 11.00\n",
      "|   |   |   |   |   |   |   |   |   |   |--- class: 0\n",
      "|   |   |   |   |   |   |   |   |   |--- occupation >  11.00\n",
      "|   |   |   |   |   |   |   |   |   |   |--- class: 0\n",
      "|   |   |   |   |   |   |--- age >  34.50\n",
      "|   |   |   |   |   |   |   |--- occupation <= 9.50\n",
      "|   |   |   |   |   |   |   |   |--- occupation <= 4.50\n",
      "|   |   |   |   |   |   |   |   |   |--- occupation <= 2.00\n",
      "|   |   |   |   |   |   |   |   |   |   |--- class: 0\n",
      "|   |   |   |   |   |   |   |   |   |--- occupation >  2.00\n",
      "|   |   |   |   |   |   |   |   |   |   |--- class: 0\n",
      "|   |   |   |   |   |   |   |   |--- occupation >  4.50\n",
      "|   |   |   |   |   |   |   |   |   |--- marital-status <= 2.50\n",
      "|   |   |   |   |   |   |   |   |   |   |--- class: 0\n",
      "|   |   |   |   |   |   |   |   |   |--- marital-status >  2.50\n",
      "|   |   |   |   |   |   |   |   |   |   |--- class: 0\n",
      "|   |   |   |   |   |   |   |--- occupation >  9.50\n",
      "|   |   |   |   |   |   |   |   |--- capital-gain <= 4718.50\n",
      "|   |   |   |   |   |   |   |   |   |--- occupation <= 11.50\n",
      "|   |   |   |   |   |   |   |   |   |   |--- class: 0\n",
      "|   |   |   |   |   |   |   |   |   |--- occupation >  11.50\n",
      "|   |   |   |   |   |   |   |   |   |   |--- class: 0\n",
      "|   |   |   |   |   |   |   |   |--- capital-gain >  4718.50\n",
      "|   |   |   |   |   |   |   |   |   |--- capital-gain <= 5194.50\n",
      "|   |   |   |   |   |   |   |   |   |   |--- class: 1\n",
      "|   |   |   |   |   |   |   |   |   |--- capital-gain >  5194.50\n",
      "|   |   |   |   |   |   |   |   |   |   |--- class: 0\n",
      "|   |   |   |   |   |--- hours-per-week >  44.50\n",
      "|   |   |   |   |   |   |--- age <= 38.50\n",
      "|   |   |   |   |   |   |   |--- workclass <= 5.50\n",
      "|   |   |   |   |   |   |   |   |--- educationnum <= 10.50\n",
      "|   |   |   |   |   |   |   |   |   |--- age <= 23.50\n",
      "|   |   |   |   |   |   |   |   |   |   |--- class: 0\n",
      "|   |   |   |   |   |   |   |   |   |--- age >  23.50\n",
      "|   |   |   |   |   |   |   |   |   |   |--- class: 0\n",
      "|   |   |   |   |   |   |   |   |--- educationnum >  10.50\n",
      "|   |   |   |   |   |   |   |   |   |--- capital-gain <= 3692.00\n",
      "|   |   |   |   |   |   |   |   |   |   |--- class: 0\n",
      "|   |   |   |   |   |   |   |   |   |--- capital-gain >  3692.00\n",
      "|   |   |   |   |   |   |   |   |   |   |--- class: 1\n",
      "|   |   |   |   |   |   |   |--- workclass >  5.50\n",
      "|   |   |   |   |   |   |   |   |--- relationship <= 2.50\n",
      "|   |   |   |   |   |   |   |   |   |--- relationship <= 1.50\n",
      "|   |   |   |   |   |   |   |   |   |   |--- class: 0\n",
      "|   |   |   |   |   |   |   |   |   |--- relationship >  1.50\n",
      "|   |   |   |   |   |   |   |   |   |   |--- class: 1\n",
      "|   |   |   |   |   |   |   |   |--- relationship >  2.50\n",
      "|   |   |   |   |   |   |   |   |   |--- occupation <= 3.50\n",
      "|   |   |   |   |   |   |   |   |   |   |--- class: 0\n",
      "|   |   |   |   |   |   |   |   |   |--- occupation >  3.50\n",
      "|   |   |   |   |   |   |   |   |   |   |--- class: 0\n",
      "|   |   |   |   |   |   |--- age >  38.50\n",
      "|   |   |   |   |   |   |   |--- capital-gain <= 4668.50\n",
      "|   |   |   |   |   |   |   |   |--- educationnum <= 9.50\n",
      "|   |   |   |   |   |   |   |   |   |--- age <= 53.50\n",
      "|   |   |   |   |   |   |   |   |   |   |--- class: 0\n",
      "|   |   |   |   |   |   |   |   |   |--- age >  53.50\n",
      "|   |   |   |   |   |   |   |   |   |   |--- class: 0\n",
      "|   |   |   |   |   |   |   |   |--- educationnum >  9.50\n",
      "|   |   |   |   |   |   |   |   |   |--- gender <= 0.50\n",
      "|   |   |   |   |   |   |   |   |   |   |--- class: 0\n",
      "|   |   |   |   |   |   |   |   |   |--- gender >  0.50\n",
      "|   |   |   |   |   |   |   |   |   |   |--- class: 0\n",
      "|   |   |   |   |   |   |   |--- capital-gain >  4668.50\n",
      "|   |   |   |   |   |   |   |   |--- class: 1\n",
      "|   |   |   |   |--- capital-loss >  2218.50\n",
      "|   |   |   |   |   |--- capital-loss <= 3343.50\n",
      "|   |   |   |   |   |   |--- capital-loss <= 2391.50\n",
      "|   |   |   |   |   |   |   |--- capital-loss <= 2298.50\n",
      "|   |   |   |   |   |   |   |   |--- age <= 37.00\n",
      "|   |   |   |   |   |   |   |   |   |--- class: 0\n",
      "|   |   |   |   |   |   |   |   |--- age >  37.00\n",
      "|   |   |   |   |   |   |   |   |   |--- class: 1\n",
      "|   |   |   |   |   |   |   |--- capital-loss >  2298.50\n",
      "|   |   |   |   |   |   |   |   |--- class: 0\n",
      "|   |   |   |   |   |   |--- capital-loss >  2391.50\n",
      "|   |   |   |   |   |   |   |--- hours-per-week <= 35.50\n",
      "|   |   |   |   |   |   |   |   |--- class: 0\n",
      "|   |   |   |   |   |   |   |--- hours-per-week >  35.50\n",
      "|   |   |   |   |   |   |   |   |--- age <= 31.00\n",
      "|   |   |   |   |   |   |   |   |   |--- class: 1\n",
      "|   |   |   |   |   |   |   |   |--- age >  31.00\n",
      "|   |   |   |   |   |   |   |   |   |--- class: 1\n",
      "|   |   |   |   |   |--- capital-loss >  3343.50\n",
      "|   |   |   |   |   |   |--- class: 0\n",
      "|   |   |   |--- educationnum >  12.50\n",
      "|   |   |   |   |--- age <= 31.50\n",
      "|   |   |   |   |   |--- hours-per-week <= 44.50\n",
      "|   |   |   |   |   |   |--- capital-loss <= 2105.50\n",
      "|   |   |   |   |   |   |   |--- capital-loss <= 1486.00\n",
      "|   |   |   |   |   |   |   |   |--- hours-per-week <= 39.50\n",
      "|   |   |   |   |   |   |   |   |   |--- class: 0\n",
      "|   |   |   |   |   |   |   |   |--- hours-per-week >  39.50\n",
      "|   |   |   |   |   |   |   |   |   |--- age <= 29.50\n",
      "|   |   |   |   |   |   |   |   |   |   |--- class: 0\n",
      "|   |   |   |   |   |   |   |   |   |--- age >  29.50\n",
      "|   |   |   |   |   |   |   |   |   |   |--- class: 0\n",
      "|   |   |   |   |   |   |   |--- capital-loss >  1486.00\n",
      "|   |   |   |   |   |   |   |   |--- capital-loss <= 1577.00\n",
      "|   |   |   |   |   |   |   |   |   |--- class: 1\n",
      "|   |   |   |   |   |   |   |   |--- capital-loss >  1577.00\n",
      "|   |   |   |   |   |   |   |   |   |--- class: 0\n",
      "|   |   |   |   |   |   |--- capital-loss >  2105.50\n",
      "|   |   |   |   |   |   |   |--- class: 0\n",
      "|   |   |   |   |   |--- hours-per-week >  44.50\n",
      "|   |   |   |   |   |   |--- age <= 27.50\n",
      "|   |   |   |   |   |   |   |--- capital-loss <= 2116.00\n",
      "|   |   |   |   |   |   |   |   |--- hours-per-week <= 62.50\n",
      "|   |   |   |   |   |   |   |   |   |--- gender <= 0.50\n",
      "|   |   |   |   |   |   |   |   |   |   |--- class: 0\n",
      "|   |   |   |   |   |   |   |   |   |--- gender >  0.50\n",
      "|   |   |   |   |   |   |   |   |   |   |--- class: 0\n",
      "|   |   |   |   |   |   |   |   |--- hours-per-week >  62.50\n",
      "|   |   |   |   |   |   |   |   |   |--- marital-status <= 3.00\n",
      "|   |   |   |   |   |   |   |   |   |   |--- class: 1\n",
      "|   |   |   |   |   |   |   |   |   |--- marital-status >  3.00\n",
      "|   |   |   |   |   |   |   |   |   |   |--- class: 0\n",
      "|   |   |   |   |   |   |   |--- capital-loss >  2116.00\n",
      "|   |   |   |   |   |   |   |   |--- class: 0\n",
      "|   |   |   |   |   |   |--- age >  27.50\n",
      "|   |   |   |   |   |   |   |--- occupation <= 3.50\n",
      "|   |   |   |   |   |   |   |   |--- class: 0\n",
      "|   |   |   |   |   |   |   |--- occupation >  3.50\n",
      "|   |   |   |   |   |   |   |   |--- marital-status <= 1.00\n",
      "|   |   |   |   |   |   |   |   |   |--- workclass <= 5.50\n",
      "|   |   |   |   |   |   |   |   |   |   |--- class: 0\n",
      "|   |   |   |   |   |   |   |   |   |--- workclass >  5.50\n",
      "|   |   |   |   |   |   |   |   |   |   |--- class: 1\n",
      "|   |   |   |   |   |   |   |   |--- marital-status >  1.00\n",
      "|   |   |   |   |   |   |   |   |   |--- education <= 11.00\n",
      "|   |   |   |   |   |   |   |   |   |   |--- class: 0\n",
      "|   |   |   |   |   |   |   |   |   |--- education >  11.00\n",
      "|   |   |   |   |   |   |   |   |   |   |--- class: 0\n",
      "|   |   |   |   |--- age >  31.50\n",
      "|   |   |   |   |   |--- hours-per-week <= 43.50\n",
      "|   |   |   |   |   |   |--- capital-loss <= 2365.50\n",
      "|   |   |   |   |   |   |   |--- educationnum <= 14.50\n",
      "|   |   |   |   |   |   |   |   |--- capital-gain <= 4668.50\n",
      "|   |   |   |   |   |   |   |   |   |--- age <= 46.50\n",
      "|   |   |   |   |   |   |   |   |   |   |--- class: 0\n",
      "|   |   |   |   |   |   |   |   |   |--- age >  46.50\n",
      "|   |   |   |   |   |   |   |   |   |   |--- class: 0\n",
      "|   |   |   |   |   |   |   |   |--- capital-gain >  4668.50\n",
      "|   |   |   |   |   |   |   |   |   |--- capital-gain <= 5316.50\n",
      "|   |   |   |   |   |   |   |   |   |   |--- class: 1\n",
      "|   |   |   |   |   |   |   |   |   |--- capital-gain >  5316.50\n",
      "|   |   |   |   |   |   |   |   |   |   |--- class: 0\n",
      "|   |   |   |   |   |   |   |--- educationnum >  14.50\n",
      "|   |   |   |   |   |   |   |   |--- marital-status <= 3.50\n",
      "|   |   |   |   |   |   |   |   |   |--- age <= 71.50\n",
      "|   |   |   |   |   |   |   |   |   |   |--- class: 0\n",
      "|   |   |   |   |   |   |   |   |   |--- age >  71.50\n",
      "|   |   |   |   |   |   |   |   |   |   |--- class: 0\n",
      "|   |   |   |   |   |   |   |   |--- marital-status >  3.50\n",
      "|   |   |   |   |   |   |   |   |   |--- gender <= 0.50\n",
      "|   |   |   |   |   |   |   |   |   |   |--- class: 0\n",
      "|   |   |   |   |   |   |   |   |   |--- gender >  0.50\n",
      "|   |   |   |   |   |   |   |   |   |   |--- class: 1\n",
      "|   |   |   |   |   |   |--- capital-loss >  2365.50\n",
      "|   |   |   |   |   |   |   |--- class: 1\n",
      "|   |   |   |   |   |--- hours-per-week >  43.50\n",
      "|   |   |   |   |   |   |--- educationnum <= 14.50\n",
      "|   |   |   |   |   |   |   |--- gender <= 0.50\n",
      "|   |   |   |   |   |   |   |   |--- occupation <= 5.00\n",
      "|   |   |   |   |   |   |   |   |   |--- occupation <= 3.50\n",
      "|   |   |   |   |   |   |   |   |   |   |--- class: 0\n",
      "|   |   |   |   |   |   |   |   |   |--- occupation >  3.50\n",
      "|   |   |   |   |   |   |   |   |   |   |--- class: 0\n",
      "|   |   |   |   |   |   |   |   |--- occupation >  5.00\n",
      "|   |   |   |   |   |   |   |   |   |--- capital-loss <= 2391.50\n",
      "|   |   |   |   |   |   |   |   |   |   |--- class: 0\n",
      "|   |   |   |   |   |   |   |   |   |--- capital-loss >  2391.50\n",
      "|   |   |   |   |   |   |   |   |   |   |--- class: 1\n",
      "|   |   |   |   |   |   |   |--- gender >  0.50\n",
      "|   |   |   |   |   |   |   |   |--- workclass <= 5.50\n",
      "|   |   |   |   |   |   |   |   |   |--- capital-loss <= 2351.00\n",
      "|   |   |   |   |   |   |   |   |   |   |--- class: 0\n",
      "|   |   |   |   |   |   |   |   |   |--- capital-loss >  2351.00\n",
      "|   |   |   |   |   |   |   |   |   |   |--- class: 1\n",
      "|   |   |   |   |   |   |   |   |--- workclass >  5.50\n",
      "|   |   |   |   |   |   |   |   |   |--- age <= 50.50\n",
      "|   |   |   |   |   |   |   |   |   |   |--- class: 0\n",
      "|   |   |   |   |   |   |   |   |   |--- age >  50.50\n",
      "|   |   |   |   |   |   |   |   |   |   |--- class: 0\n",
      "|   |   |   |   |   |   |--- educationnum >  14.50\n",
      "|   |   |   |   |   |   |   |--- capital-loss <= 782.00\n",
      "|   |   |   |   |   |   |   |   |--- hours-per-week <= 89.50\n",
      "|   |   |   |   |   |   |   |   |   |--- age <= 32.50\n",
      "|   |   |   |   |   |   |   |   |   |   |--- class: 0\n",
      "|   |   |   |   |   |   |   |   |   |--- age >  32.50\n",
      "|   |   |   |   |   |   |   |   |   |   |--- class: 1\n",
      "|   |   |   |   |   |   |   |   |--- hours-per-week >  89.50\n",
      "|   |   |   |   |   |   |   |   |   |--- class: 0\n",
      "|   |   |   |   |   |   |   |--- capital-loss >  782.00\n",
      "|   |   |   |   |   |   |   |   |--- class: 1\n",
      "|   |   |--- relationship >  4.50\n",
      "|   |   |   |--- educationnum <= 10.50\n",
      "|   |   |   |   |--- educationnum <= 8.50\n",
      "|   |   |   |   |   |--- country <= 39.50\n",
      "|   |   |   |   |   |   |--- capital-gain <= 5095.50\n",
      "|   |   |   |   |   |   |   |--- race <= 2.50\n",
      "|   |   |   |   |   |   |   |   |--- age <= 44.00\n",
      "|   |   |   |   |   |   |   |   |   |--- educationnum <= 3.50\n",
      "|   |   |   |   |   |   |   |   |   |   |--- class: 0\n",
      "|   |   |   |   |   |   |   |   |   |--- educationnum >  3.50\n",
      "|   |   |   |   |   |   |   |   |   |   |--- class: 0\n",
      "|   |   |   |   |   |   |   |   |--- age >  44.00\n",
      "|   |   |   |   |   |   |   |   |   |--- educationnum <= 4.50\n",
      "|   |   |   |   |   |   |   |   |   |   |--- class: 0\n",
      "|   |   |   |   |   |   |   |   |   |--- educationnum >  4.50\n",
      "|   |   |   |   |   |   |   |   |   |   |--- class: 1\n",
      "|   |   |   |   |   |   |   |--- race >  2.50\n",
      "|   |   |   |   |   |   |   |   |--- country <= 3.50\n",
      "|   |   |   |   |   |   |   |   |   |--- class: 1\n",
      "|   |   |   |   |   |   |   |   |--- country >  3.50\n",
      "|   |   |   |   |   |   |   |   |   |--- workclass <= 6.50\n",
      "|   |   |   |   |   |   |   |   |   |   |--- class: 0\n",
      "|   |   |   |   |   |   |   |   |   |--- workclass >  6.50\n",
      "|   |   |   |   |   |   |   |   |   |   |--- class: 0\n",
      "|   |   |   |   |   |   |--- capital-gain >  5095.50\n",
      "|   |   |   |   |   |   |   |--- class: 1\n",
      "|   |   |   |   |   |--- country >  39.50\n",
      "|   |   |   |   |   |   |--- class: 1\n",
      "|   |   |   |   |--- educationnum >  8.50\n",
      "|   |   |   |   |   |--- occupation <= 4.50\n",
      "|   |   |   |   |   |   |--- age <= 24.50\n",
      "|   |   |   |   |   |   |   |--- class: 0\n",
      "|   |   |   |   |   |   |--- age >  24.50\n",
      "|   |   |   |   |   |   |   |--- hours-per-week <= 34.50\n",
      "|   |   |   |   |   |   |   |   |--- workclass <= 3.00\n",
      "|   |   |   |   |   |   |   |   |   |--- hours-per-week <= 22.50\n",
      "|   |   |   |   |   |   |   |   |   |   |--- class: 0\n",
      "|   |   |   |   |   |   |   |   |   |--- hours-per-week >  22.50\n",
      "|   |   |   |   |   |   |   |   |   |   |--- class: 0\n",
      "|   |   |   |   |   |   |   |   |--- workclass >  3.00\n",
      "|   |   |   |   |   |   |   |   |   |--- age <= 39.50\n",
      "|   |   |   |   |   |   |   |   |   |   |--- class: 0\n",
      "|   |   |   |   |   |   |   |   |   |--- age >  39.50\n",
      "|   |   |   |   |   |   |   |   |   |   |--- class: 1\n",
      "|   |   |   |   |   |   |   |--- hours-per-week >  34.50\n",
      "|   |   |   |   |   |   |   |   |--- hours-per-week <= 58.00\n",
      "|   |   |   |   |   |   |   |   |   |--- capital-gain <= 5095.50\n",
      "|   |   |   |   |   |   |   |   |   |   |--- class: 1\n",
      "|   |   |   |   |   |   |   |   |   |--- capital-gain >  5095.50\n",
      "|   |   |   |   |   |   |   |   |   |   |--- class: 1\n",
      "|   |   |   |   |   |   |   |   |--- hours-per-week >  58.00\n",
      "|   |   |   |   |   |   |   |   |   |--- occupation <= 3.50\n",
      "|   |   |   |   |   |   |   |   |   |   |--- class: 0\n",
      "|   |   |   |   |   |   |   |   |   |--- occupation >  3.50\n",
      "|   |   |   |   |   |   |   |   |   |   |--- class: 0\n",
      "|   |   |   |   |   |--- occupation >  4.50\n",
      "|   |   |   |   |   |   |--- occupation <= 9.50\n",
      "|   |   |   |   |   |   |   |--- marital-status <= 1.50\n",
      "|   |   |   |   |   |   |   |   |--- class: 1\n",
      "|   |   |   |   |   |   |   |--- marital-status >  1.50\n",
      "|   |   |   |   |   |   |   |   |--- capital-loss <= 2297.00\n",
      "|   |   |   |   |   |   |   |   |   |--- hours-per-week <= 48.00\n",
      "|   |   |   |   |   |   |   |   |   |   |--- class: 0\n",
      "|   |   |   |   |   |   |   |   |   |--- hours-per-week >  48.00\n",
      "|   |   |   |   |   |   |   |   |   |   |--- class: 0\n",
      "|   |   |   |   |   |   |   |   |--- capital-loss >  2297.00\n",
      "|   |   |   |   |   |   |   |   |   |--- class: 1\n",
      "|   |   |   |   |   |   |--- occupation >  9.50\n",
      "|   |   |   |   |   |   |   |--- hours-per-week <= 39.50\n",
      "|   |   |   |   |   |   |   |   |--- workclass <= 4.50\n",
      "|   |   |   |   |   |   |   |   |   |--- capital-gain <= 5095.50\n",
      "|   |   |   |   |   |   |   |   |   |   |--- class: 0\n",
      "|   |   |   |   |   |   |   |   |   |--- capital-gain >  5095.50\n",
      "|   |   |   |   |   |   |   |   |   |   |--- class: 1\n",
      "|   |   |   |   |   |   |   |   |--- workclass >  4.50\n",
      "|   |   |   |   |   |   |   |   |   |--- class: 1\n",
      "|   |   |   |   |   |   |   |--- hours-per-week >  39.50\n",
      "|   |   |   |   |   |   |   |   |--- age <= 31.50\n",
      "|   |   |   |   |   |   |   |   |   |--- age <= 23.50\n",
      "|   |   |   |   |   |   |   |   |   |   |--- class: 0\n",
      "|   |   |   |   |   |   |   |   |   |--- age >  23.50\n",
      "|   |   |   |   |   |   |   |   |   |   |--- class: 0\n",
      "|   |   |   |   |   |   |   |   |--- age >  31.50\n",
      "|   |   |   |   |   |   |   |   |   |--- race <= 3.00\n",
      "|   |   |   |   |   |   |   |   |   |   |--- class: 0\n",
      "|   |   |   |   |   |   |   |   |   |--- race >  3.00\n",
      "|   |   |   |   |   |   |   |   |   |   |--- class: 1\n",
      "|   |   |   |--- educationnum >  10.50\n",
      "|   |   |   |   |--- occupation <= 3.50\n",
      "|   |   |   |   |   |--- age <= 33.50\n",
      "|   |   |   |   |   |   |--- race <= 0.50\n",
      "|   |   |   |   |   |   |   |--- class: 1\n",
      "|   |   |   |   |   |   |--- race >  0.50\n",
      "|   |   |   |   |   |   |   |--- educationnum <= 12.50\n",
      "|   |   |   |   |   |   |   |   |--- workclass <= 5.00\n",
      "|   |   |   |   |   |   |   |   |   |--- race <= 1.50\n",
      "|   |   |   |   |   |   |   |   |   |   |--- class: 0\n",
      "|   |   |   |   |   |   |   |   |   |--- race >  1.50\n",
      "|   |   |   |   |   |   |   |   |   |   |--- class: 0\n",
      "|   |   |   |   |   |   |   |   |--- workclass >  5.00\n",
      "|   |   |   |   |   |   |   |   |   |--- class: 1\n",
      "|   |   |   |   |   |   |   |--- educationnum >  12.50\n",
      "|   |   |   |   |   |   |   |   |--- age <= 25.50\n",
      "|   |   |   |   |   |   |   |   |   |--- class: 0\n",
      "|   |   |   |   |   |   |   |   |--- age >  25.50\n",
      "|   |   |   |   |   |   |   |   |   |--- age <= 32.50\n",
      "|   |   |   |   |   |   |   |   |   |   |--- class: 1\n",
      "|   |   |   |   |   |   |   |   |   |--- age >  32.50\n",
      "|   |   |   |   |   |   |   |   |   |   |--- class: 0\n",
      "|   |   |   |   |   |--- age >  33.50\n",
      "|   |   |   |   |   |   |--- age <= 54.00\n",
      "|   |   |   |   |   |   |   |--- country <= 5.50\n",
      "|   |   |   |   |   |   |   |   |--- class: 0\n",
      "|   |   |   |   |   |   |   |--- country >  5.50\n",
      "|   |   |   |   |   |   |   |   |--- age <= 37.50\n",
      "|   |   |   |   |   |   |   |   |   |--- educationnum <= 12.50\n",
      "|   |   |   |   |   |   |   |   |   |   |--- class: 0\n",
      "|   |   |   |   |   |   |   |   |   |--- educationnum >  12.50\n",
      "|   |   |   |   |   |   |   |   |   |   |--- class: 1\n",
      "|   |   |   |   |   |   |   |   |--- age >  37.50\n",
      "|   |   |   |   |   |   |   |   |   |--- hours-per-week <= 3.50\n",
      "|   |   |   |   |   |   |   |   |   |   |--- class: 0\n",
      "|   |   |   |   |   |   |   |   |   |--- hours-per-week >  3.50\n",
      "|   |   |   |   |   |   |   |   |   |   |--- class: 1\n",
      "|   |   |   |   |   |   |--- age >  54.00\n",
      "|   |   |   |   |   |   |   |--- hours-per-week <= 5.00\n",
      "|   |   |   |   |   |   |   |   |--- class: 1\n",
      "|   |   |   |   |   |   |   |--- hours-per-week >  5.00\n",
      "|   |   |   |   |   |   |   |   |--- hours-per-week <= 50.50\n",
      "|   |   |   |   |   |   |   |   |   |--- class: 0\n",
      "|   |   |   |   |   |   |   |   |--- hours-per-week >  50.50\n",
      "|   |   |   |   |   |   |   |   |   |--- class: 1\n",
      "|   |   |   |   |--- occupation >  3.50\n",
      "|   |   |   |   |   |--- age <= 24.50\n",
      "|   |   |   |   |   |   |--- marital-status <= 1.50\n",
      "|   |   |   |   |   |   |   |--- class: 1\n",
      "|   |   |   |   |   |   |--- marital-status >  1.50\n",
      "|   |   |   |   |   |   |   |--- educationnum <= 13.50\n",
      "|   |   |   |   |   |   |   |   |--- class: 0\n",
      "|   |   |   |   |   |   |   |--- educationnum >  13.50\n",
      "|   |   |   |   |   |   |   |   |--- class: 1\n",
      "|   |   |   |   |   |--- age >  24.50\n",
      "|   |   |   |   |   |   |--- capital-loss <= 1794.00\n",
      "|   |   |   |   |   |   |   |--- country <= 1.00\n",
      "|   |   |   |   |   |   |   |   |--- class: 0\n",
      "|   |   |   |   |   |   |   |--- country >  1.00\n",
      "|   |   |   |   |   |   |   |   |--- hours-per-week <= 72.50\n",
      "|   |   |   |   |   |   |   |   |   |--- education <= 9.50\n",
      "|   |   |   |   |   |   |   |   |   |   |--- class: 1\n",
      "|   |   |   |   |   |   |   |   |   |--- education >  9.50\n",
      "|   |   |   |   |   |   |   |   |   |   |--- class: 1\n",
      "|   |   |   |   |   |   |   |   |--- hours-per-week >  72.50\n",
      "|   |   |   |   |   |   |   |   |   |--- class: 0\n",
      "|   |   |   |   |   |   |--- capital-loss >  1794.00\n",
      "|   |   |   |   |   |   |   |--- age <= 54.50\n",
      "|   |   |   |   |   |   |   |   |--- age <= 28.50\n",
      "|   |   |   |   |   |   |   |   |   |--- class: 1\n",
      "|   |   |   |   |   |   |   |   |--- age >  28.50\n",
      "|   |   |   |   |   |   |   |   |   |--- class: 1\n",
      "|   |   |   |   |   |   |   |--- age >  54.50\n",
      "|   |   |   |   |   |   |   |   |--- class: 0\n",
      "|   |--- capital-gain >  7073.50\n",
      "|   |   |--- age <= 20.50\n",
      "|   |   |   |--- class: 0\n",
      "|   |   |--- age >  20.50\n",
      "|   |   |   |--- educationnum <= 3.00\n",
      "|   |   |   |   |--- class: 0\n",
      "|   |   |   |--- educationnum >  3.00\n",
      "|   |   |   |   |--- capital-gain <= 7565.50\n",
      "|   |   |   |   |   |--- capital-gain <= 7436.50\n",
      "|   |   |   |   |   |   |--- class: 1\n",
      "|   |   |   |   |   |--- capital-gain >  7436.50\n",
      "|   |   |   |   |   |   |--- class: 0\n",
      "|   |   |   |   |--- capital-gain >  7565.50\n",
      "|   |   |   |   |   |--- age <= 60.50\n",
      "|   |   |   |   |   |   |--- age <= 54.50\n",
      "|   |   |   |   |   |   |   |--- class: 1\n",
      "|   |   |   |   |   |   |--- age >  54.50\n",
      "|   |   |   |   |   |   |   |--- hours-per-week <= 57.50\n",
      "|   |   |   |   |   |   |   |   |--- class: 1\n",
      "|   |   |   |   |   |   |   |--- hours-per-week >  57.50\n",
      "|   |   |   |   |   |   |   |   |--- class: 1\n",
      "|   |   |   |   |   |--- age >  60.50\n",
      "|   |   |   |   |   |   |--- education <= 14.50\n",
      "|   |   |   |   |   |   |   |--- age <= 61.50\n",
      "|   |   |   |   |   |   |   |   |--- class: 0\n",
      "|   |   |   |   |   |   |   |--- age >  61.50\n",
      "|   |   |   |   |   |   |   |   |--- class: 1\n",
      "|   |   |   |   |   |   |--- education >  14.50\n",
      "|   |   |   |   |   |   |   |--- class: 1\n",
      "\n"
     ]
    }
   ],
   "source": [
    "tree_rules = export_text(cart_model, feature_names=list(X.columns))\n",
    "print(tree_rules)"
   ]
  },
  {
   "cell_type": "code",
   "execution_count": null,
   "metadata": {},
   "outputs": [],
   "source": []
  }
 ],
 "metadata": {
  "kernelspec": {
   "display_name": "Python 3",
   "language": "python",
   "name": "python3"
  },
  "language_info": {
   "codemirror_mode": {
    "name": "ipython",
    "version": 3
   },
   "file_extension": ".py",
   "mimetype": "text/x-python",
   "name": "python",
   "nbconvert_exporter": "python",
   "pygments_lexer": "ipython3",
   "version": "3.11.6"
  }
 },
 "nbformat": 4,
 "nbformat_minor": 2
}
